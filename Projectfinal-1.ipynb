{
 "cells": [
  {
   "cell_type": "code",
   "execution_count": 1,
   "id": "151161b6",
   "metadata": {},
   "outputs": [],
   "source": [
    "import pandas as pd\n",
    "import numpy as np\n",
    "from sklearn.linear_model import LinearRegression\n",
    "from sklearn.model_selection import train_test_split\n",
    "import random\n"
   ]
  },
  {
   "cell_type": "code",
   "execution_count": 4,
   "id": "8d5e51e6",
   "metadata": {},
   "outputs": [],
   "source": [
    "from sklearn.experimental import enable_iterative_imputer \n",
    "from sklearn.impute import IterativeImputer \n",
    "#from sklearn.ensemble import RandomForestRegressor"
   ]
  },
  {
   "cell_type": "code",
   "execution_count": 8,
   "id": "a1e2454f",
   "metadata": {
    "scrolled": false
   },
   "outputs": [
    {
     "name": "stdout",
     "output_type": "stream",
     "text": [
      "Samples: 50\n",
      "[-0.1940256786882047, 0.27699021318778755, -0.7938206327803916, -2.264896683278537]\n",
      "[-0.19403017702797334, 0.27699603208676815, -0.7937631701895657, -2.2648898804152733]\n",
      "[-0.13999842093398732, 0.28060777443699053, -0.18849897554105524, -0.8959233538571085]\n",
      "error for MICE 8.505807347594236e-10\n",
      "error for knn 0.56085857918 \n",
      "\n",
      "Samples: 100\n",
      "[1.2680988528438173, 1.331453398892757, -0.0486290939293601, 2.591239462318816]\n",
      "[1.2680986902184617, 1.331453302800207, -0.048626804634040455, 2.591239614605348]\n",
      "[1.2444626157647978, 1.2984170885459592, 0.047993550518422044, 1.4396901652307947]\n",
      "error for MICE 1.3249362582039548e-12\n",
      "error for knn 0.334262947137146 \n",
      "\n",
      "Samples: 200\n",
      "[1.3947745106362746, 1.5109880359400634, 1.18669674633479, 1.2158007377611906]\n",
      "[1.3947745890366006, 1.5109880357404206, 1.186696745560456, 1.2158007907419064]\n",
      "[0.7206020674803845, 1.3450331253430783, 1.3717403225653517, 1.1087028519422226]\n",
      "error for MICE 2.2385517042002774e-15\n",
      "error for knn 0.1319401494282809 \n",
      "\n",
      "Samples: 350\n",
      "[-0.9469956359916034, 0.7042676316758016, -0.17631765083058903, 1.2188526410144054]\n",
      "[-0.9469956361476684, 0.7042676316729692, -0.17631765083038886, 1.2188526409275855]\n",
      "[-0.9155773090438977, 0.7703522698707244, -0.16123927706484348, 1.0549687934286915]\n",
      "error for MICE 7.975505009051715e-21\n",
      "error for knn 0.008109890882115944 \n",
      "\n",
      "Samples: 450\n",
      "[-1.1973690493729834, -1.5616820335822954, -0.7747680824722176, 0.26533002824718205]\n",
      "[-1.1973690493757971, -1.5616820335857493, -0.7747680824721294, 0.2653300282685119]\n",
      "[-1.3261371722596855, -1.4853708059773714, -0.9966928074227768, 0.19232447713527354]\n",
      "error for MICE 1.1870398444320108e-22\n",
      "error for knn 0.01924625674196754 \n",
      "\n",
      "Samples: 650\n",
      "[-1.0153969556882796, 2.5533839375910654, 0.12480853931929575, -0.111662165125052]\n",
      "[-1.0153969623785768, 2.5533839375917418, 0.12480853931936277, -0.11166216448487197]\n",
      "[-0.492836362509456, 2.4840543244342035, 0.16182717926263684, 0.6039911206880375]\n",
      "error for MICE 1.1292476907689025e-17\n",
      "error for knn 0.19785154350055256 \n",
      "\n",
      "Samples: 750\n",
      "[0.32904974138898746, 2.365414699983955, -0.687187813452825, 0.3122012713841259]\n",
      "[0.32904974138900095, 2.3654146999630403, -0.6871878134564251, 0.31220127138413845]\n",
      "[0.3405300399144185, 2.2622561910835657, -0.7166327198722346, 0.29974889892633466]\n",
      "error for MICE 1.1259778186584177e-22\n",
      "error for knn 0.0029488848266650243 \n",
      "\n",
      "Samples: 1000\n",
      "[0.1532100685346831, -1.378022420201861, -0.8122703508379353, -1.6672133945493135]\n",
      "[0.15321006853230845, -1.3780224202018654, -0.8122703508131037, -1.6672133945270853]\n",
      "[0.2174705389251516, -1.3799751691271696, -0.8645490473821325, -1.6605028484374746]\n",
      "error for MICE 2.7908504233421424e-22\n",
      "error for knn 0.0017278287061622346 \n",
      "\n"
     ]
    },
    {
     "data": {
      "text/plain": [
       "<matplotlib.legend.Legend at 0x17a921d9f40>"
      ]
     },
     "execution_count": 8,
     "metadata": {},
     "output_type": "execute_result"
    },
    {
     "data": {
      "image/png": "[encoded data removed]",
      "text/plain": [
       "<Figure size 432x288 with 1 Axes>"
      ]
     },
     "metadata": {
      "needs_background": "light"
     },
     "output_type": "display_data"
    }
   ],
   "source": [
    "\n",
    "from sklearn.datasets import make_classification #for regression use make_regression\n",
    "import random\n",
    "from sklearn import metrics\n",
    "import numpy as np\n",
    "#to make a synthetic dataset for classfication\n",
    "samples=[50,100,200,350,450,650,750,1000]\n",
    "msemice=[]\n",
    "mseknn=[]\n",
    "for k in samples:\n",
    "    print(\"Samples:\",k)\n",
    "    X,y=make_classification(n_samples=k,n_features=3,n_informative=2,n_redundant=1,random_state=42)\n",
    "    l1=[]\n",
    "\n",
    "    lx=[]\n",
    "    ly=[]\n",
    "    for i in range(0,4):\n",
    "        tempx=random.randint(0,k-1)\n",
    "        tempy=random.randint(0,2)\n",
    "        lx.append(tempx)\n",
    "        ly.append(tempy)\n",
    "        l1.append(X[tempx][tempy])\n",
    "        X[tempx][tempy]=np.NaN\n",
    "    print(l1)\n",
    "    \n",
    "    Y=X\n",
    "\n",
    "    #rf=RandomForestRegressor()\n",
    "    lr = LinearRegression()\n",
    "    imp = IterativeImputer(estimator=lr,missing_values=np.nan, max_iter=100, verbose=0, imputation_order='roman',random_state=0)\n",
    "    X=imp.fit_transform(X)\n",
    "\n",
    "    l2=[]\n",
    "    \n",
    "    for i in range(len(lx)):\n",
    "        l2.append(X[lx[i]][ly[i]])\n",
    "    print(l2)\n",
    "    from sklearn.impute import KNNImputer\n",
    "    knn = KNNImputer(n_neighbors=5)\n",
    "\n",
    "    Y=knn.fit_transform(Y)\n",
    "\n",
    "\n",
    "    l3=[]\n",
    "   \n",
    "    for i in range(len(lx)):\n",
    "        l3.append(Y[lx[i]][ly[i]])\n",
    "    print(l3)\n",
    "   \n",
    "    #print(A)\n",
    "    from sklearn.metrics import mean_squared_error as mse\n",
    "    from matplotlib import pyplot\n",
    "\n",
    "    error1=mse(l1,l2)\n",
    "    print(\"error for MICE\",error1)\n",
    "   \n",
    "    msemice.append(error1)\n",
    "    error2=mse(l1,l3)\n",
    "    mseknn.append(error2)\n",
    "    print(\"error for knn\",error2,\"\\n\")\n",
    "pyplot.plot(samples,msemice,color=\"blue\",label='MICE')\n",
    "pyplot.plot(samples,mseknn,color=\"red\",label='KNN')\n",
    "pyplot.title(\"number of samples vs mean-squared error for both models\")\n",
    "pyplot.xlabel(\"Number of samples\")\n",
    "pyplot.ylabel(\"mean-squared-error\")\n",
    "pyplot.legend(loc =\"upper left\")\n",
    "    "
   ]
  },
  {
   "cell_type": "code",
   "execution_count": null,
   "id": "0e81438b",
   "metadata": {},
   "outputs": [],
   "source": []
  }
 ],
 "metadata": {
  "kernelspec": {
   "display_name": "Python 3 (ipykernel)",
   "language": "python",
   "name": "python3"
  },
  "language_info": {
   "codemirror_mode": {
    "name": "ipython",
    "version": 3
   },
   "file_extension": ".py",
   "mimetype": "text/x-python",
   "name": "python",
   "nbconvert_exporter": "python",
   "pygments_lexer": "ipython3",
   "version": "3.9.7"
  }
 },
 "nbformat": 4,
 "nbformat_minor": 5
}
